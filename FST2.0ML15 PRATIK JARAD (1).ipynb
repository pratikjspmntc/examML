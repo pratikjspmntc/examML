{
 "cells": [
  {
   "cell_type": "raw",
   "id": "783e2e35",
   "metadata": {},
   "source": [
    "QUE.1\n",
    "Python program to display the sum of n numbers using the list.\n"
   ]
  },
  {
   "cell_type": "code",
   "execution_count": null,
   "id": "40c19412",
   "metadata": {},
   "outputs": [
    {
     "name": "stdout",
     "output_type": "stream",
     "text": [
      "Enter how many numbers you wants to append:5\n",
      "Enter number:65\n",
      "Enter number:51\n",
      "Enter number:25\n"
     ]
    }
   ],
   "source": [
    "n = int(input(\"Enter how many numbers you wants to append:\"))\n",
    "\n",
    "list = []\n",
    "\n",
    "for i in range(n):\n",
    "    num = int(input(\"Enter number:\"))\n",
    "    list.append(num)\n",
    "\n",
    "sum = 0\n",
    "\n",
    "for i in list:\n",
    "    sum = sum + i\n",
    "    \n",
    "print(\"The sum of n numbers in list is:\", sum)"
   ]
  },
  {
   "cell_type": "raw",
   "id": "a12190bc",
   "metadata": {},
   "source": [
    "QUE.2\n",
    "Use a dictionary comprehension to count the length of each word in a sentence.   "
   ]
  },
  {
   "cell_type": "code",
   "execution_count": 2,
   "id": "1eaf0bf6",
   "metadata": {},
   "outputs": [
    {
     "name": "stdout",
     "output_type": "stream",
     "text": [
      "the : 3\n",
      "punishment : 10\n",
      "given : 5\n",
      "by : 2\n",
      "a : 1\n",
      "judge : 5\n",
      "to : 2\n",
      "somebody : 8\n",
      "who : 3\n",
      "has : 3\n",
      "been : 4\n",
      "found : 5\n",
      "guilty : 6\n",
      "of : 2\n",
      "a : 1\n",
      "crime : 5\n"
     ]
    }
   ],
   "source": [
    "word =  \"the punishment given by a judge to somebody who has been found guilty of a crime\"\n",
    "\n",
    "words = word.split()\n",
    "\n",
    "for word in words:\n",
    "    print(word,\":\", len(word))\n"
   ]
  },
  {
   "cell_type": "raw",
   "id": "ddc11779",
   "metadata": {},
   "source": [
    "5.The objective of this project is to explore a dataset containing customer information for treadmill products for a retail store called Cardio Good Fitness.\n",
    "                                                                                                                                                                         [25M]\n",
    "⦁\tProduct - The model no. of the treadmill\n",
    "⦁\tAge - Age of the customer in no of years\n",
    "⦁\tGender - Gender of the customer\n",
    "⦁\tEducation - Education of the customer in no. of years\n",
    "⦁\tMarital Status - Marital status of the customer\n",
    "⦁\tUsage - Avg. # times the customer wants to use the treadmill every week\n",
    "⦁\tFitness - Self rated fitness score of the customer (5 - very fit, 1 - very unfit)\n",
    "⦁\tIncome - Income of the customer\n",
    "⦁\tMiles- Miles that a customer expects to run\n",
    "⦁\tPerform descriptive statistics\n",
    "⦁\tWhich gender has better fitness levels?\n",
    "⦁\tWhich is the most popular product among all?\n",
    "⦁\tWho is more fit? Married or singles\n",
    "⦁\tWhich is the most favourite product of the customers below the age of 40?\n"
   ]
  },
  {
   "cell_type": "code",
   "execution_count": 3,
   "id": "2e0d7139",
   "metadata": {},
   "outputs": [],
   "source": [
    "import pandas as pd\n",
    "import numpy as np\n",
    "import matplotlib.pyplot as plt\n",
    "import seaborn as sns"
   ]
  },
  {
   "cell_type": "code",
   "execution_count": 4,
   "id": "1e798b08",
   "metadata": {},
   "outputs": [],
   "source": [
    "#df"
   ]
  },
  {
   "cell_type": "code",
   "execution_count": 5,
   "id": "c4d3eb75",
   "metadata": {},
   "outputs": [],
   "source": [
    "df=pd.read_csv(r\"C:\\Users\\Asus\\Downloads\\CardioGoodFitness.csv\")"
   ]
  },
  {
   "cell_type": "code",
   "execution_count": 6,
   "id": "45e8f965",
   "metadata": {},
   "outputs": [
    {
     "data": {
      "text/html": [
       "<div>\n",
       "<style scoped>\n",
       "    .dataframe tbody tr th:only-of-type {\n",
       "        vertical-align: middle;\n",
       "    }\n",
       "\n",
       "    .dataframe tbody tr th {\n",
       "        vertical-align: top;\n",
       "    }\n",
       "\n",
       "    .dataframe thead th {\n",
       "        text-align: right;\n",
       "    }\n",
       "</style>\n",
       "<table border=\"1\" class=\"dataframe\">\n",
       "  <thead>\n",
       "    <tr style=\"text-align: right;\">\n",
       "      <th></th>\n",
       "      <th>Product</th>\n",
       "      <th>Age</th>\n",
       "      <th>Gender</th>\n",
       "      <th>Education</th>\n",
       "      <th>MaritalStatus</th>\n",
       "      <th>Usage</th>\n",
       "      <th>Fitness</th>\n",
       "      <th>Income</th>\n",
       "      <th>Miles</th>\n",
       "    </tr>\n",
       "  </thead>\n",
       "  <tbody>\n",
       "    <tr>\n",
       "      <th>0</th>\n",
       "      <td>TM195</td>\n",
       "      <td>18</td>\n",
       "      <td>Male</td>\n",
       "      <td>14</td>\n",
       "      <td>Single</td>\n",
       "      <td>3</td>\n",
       "      <td>4</td>\n",
       "      <td>29562</td>\n",
       "      <td>112</td>\n",
       "    </tr>\n",
       "    <tr>\n",
       "      <th>1</th>\n",
       "      <td>TM195</td>\n",
       "      <td>19</td>\n",
       "      <td>Male</td>\n",
       "      <td>15</td>\n",
       "      <td>Single</td>\n",
       "      <td>2</td>\n",
       "      <td>3</td>\n",
       "      <td>31836</td>\n",
       "      <td>75</td>\n",
       "    </tr>\n",
       "    <tr>\n",
       "      <th>2</th>\n",
       "      <td>TM195</td>\n",
       "      <td>19</td>\n",
       "      <td>Female</td>\n",
       "      <td>14</td>\n",
       "      <td>Partnered</td>\n",
       "      <td>4</td>\n",
       "      <td>3</td>\n",
       "      <td>30699</td>\n",
       "      <td>66</td>\n",
       "    </tr>\n",
       "    <tr>\n",
       "      <th>3</th>\n",
       "      <td>TM195</td>\n",
       "      <td>19</td>\n",
       "      <td>Male</td>\n",
       "      <td>12</td>\n",
       "      <td>Single</td>\n",
       "      <td>3</td>\n",
       "      <td>3</td>\n",
       "      <td>32973</td>\n",
       "      <td>85</td>\n",
       "    </tr>\n",
       "    <tr>\n",
       "      <th>4</th>\n",
       "      <td>TM195</td>\n",
       "      <td>20</td>\n",
       "      <td>Male</td>\n",
       "      <td>13</td>\n",
       "      <td>Partnered</td>\n",
       "      <td>4</td>\n",
       "      <td>2</td>\n",
       "      <td>35247</td>\n",
       "      <td>47</td>\n",
       "    </tr>\n",
       "  </tbody>\n",
       "</table>\n",
       "</div>"
      ],
      "text/plain": [
       "  Product  Age  Gender  Education MaritalStatus  Usage  Fitness  Income  Miles\n",
       "0   TM195   18    Male         14        Single      3        4   29562    112\n",
       "1   TM195   19    Male         15        Single      2        3   31836     75\n",
       "2   TM195   19  Female         14     Partnered      4        3   30699     66\n",
       "3   TM195   19    Male         12        Single      3        3   32973     85\n",
       "4   TM195   20    Male         13     Partnered      4        2   35247     47"
      ]
     },
     "execution_count": 6,
     "metadata": {},
     "output_type": "execute_result"
    }
   ],
   "source": [
    "df.head()"
   ]
  },
  {
   "cell_type": "code",
   "execution_count": 7,
   "id": "455b44a4",
   "metadata": {},
   "outputs": [
    {
     "data": {
      "text/plain": [
       "(180, 9)"
      ]
     },
     "execution_count": 7,
     "metadata": {},
     "output_type": "execute_result"
    }
   ],
   "source": [
    "df.shape"
   ]
  },
  {
   "cell_type": "code",
   "execution_count": 8,
   "id": "def69d45",
   "metadata": {},
   "outputs": [
    {
     "name": "stdout",
     "output_type": "stream",
     "text": [
      "              Age   Education       Usage     Fitness         Income  \\\n",
      "count  180.000000  180.000000  180.000000  180.000000     180.000000   \n",
      "mean    28.788889   15.572222    3.455556    3.311111   53719.577778   \n",
      "std      6.943498    1.617055    1.084797    0.958869   16506.684226   \n",
      "min     18.000000   12.000000    2.000000    1.000000   29562.000000   \n",
      "25%     24.000000   14.000000    3.000000    3.000000   44058.750000   \n",
      "50%     26.000000   16.000000    3.000000    3.000000   50596.500000   \n",
      "75%     33.000000   16.000000    4.000000    4.000000   58668.000000   \n",
      "max     50.000000   21.000000    7.000000    5.000000  104581.000000   \n",
      "\n",
      "            Miles  \n",
      "count  180.000000  \n",
      "mean   103.194444  \n",
      "std     51.863605  \n",
      "min     21.000000  \n",
      "25%     66.000000  \n",
      "50%     94.000000  \n",
      "75%    114.750000  \n",
      "max    360.000000  \n"
     ]
    }
   ],
   "source": [
    "print(df.describe())"
   ]
  },
  {
   "cell_type": "code",
   "execution_count": 9,
   "id": "dc849efb",
   "metadata": {},
   "outputs": [
    {
     "name": "stdout",
     "output_type": "stream",
     "text": [
      "Male      104\n",
      "Female     76\n",
      "Name: Gender, dtype: int64\n",
      "Partnered    107\n",
      "Single        73\n",
      "Name: MaritalStatus, dtype: int64\n"
     ]
    }
   ],
   "source": [
    "# Display counts for categorical columns\n",
    "print(df['Gender'].value_counts())\n",
    "print(df['MaritalStatus'].value_counts())"
   ]
  },
  {
   "cell_type": "code",
   "execution_count": 10,
   "id": "5dffddf8",
   "metadata": {},
   "outputs": [],
   "source": [
    "# Calculate the mean fitness score for each gender\n",
    "mean_fitness_by_gender = df.groupby('Gender')['Fitness'].mean()\n"
   ]
  },
  {
   "cell_type": "code",
   "execution_count": 11,
   "id": "de5cb7b2",
   "metadata": {},
   "outputs": [
    {
     "data": {
      "text/plain": [
       "Product          object\n",
       "Age               int64\n",
       "Gender           object\n",
       "Education         int64\n",
       "MaritalStatus    object\n",
       "Usage             int64\n",
       "Fitness           int64\n",
       "Income            int64\n",
       "Miles             int64\n",
       "dtype: object"
      ]
     },
     "execution_count": 11,
     "metadata": {},
     "output_type": "execute_result"
    }
   ],
   "source": [
    "df.dtypes"
   ]
  },
  {
   "cell_type": "code",
   "execution_count": 12,
   "id": "abe8ee06",
   "metadata": {},
   "outputs": [
    {
     "name": "stdout",
     "output_type": "stream",
     "text": [
      "Gender\n",
      "Female    3.026316\n",
      "Male      3.519231\n",
      "Name: Fitness, dtype: float64\n"
     ]
    }
   ],
   "source": [
    "# Print the mean fitness score for each gender\n",
    "print(mean_fitness_by_gender)"
   ]
  },
  {
   "cell_type": "code",
   "execution_count": 13,
   "id": "a129e1c6",
   "metadata": {},
   "outputs": [],
   "source": [
    "# Count the number of occurrences for each product\n",
    "product_counts = df['Product'].value_counts()"
   ]
  },
  {
   "cell_type": "code",
   "execution_count": 14,
   "id": "a903e91a",
   "metadata": {},
   "outputs": [
    {
     "name": "stdout",
     "output_type": "stream",
     "text": [
      "TM195    80\n",
      "TM498    60\n",
      "TM798    40\n",
      "Name: Product, dtype: int64\n"
     ]
    }
   ],
   "source": [
    "# Print the product counts\n",
    "print(product_counts)"
   ]
  },
  {
   "cell_type": "code",
   "execution_count": 15,
   "id": "3f80e92f",
   "metadata": {},
   "outputs": [],
   "source": [
    "# Calculate the mean fitness score for each marital status\n",
    "mean_fitness_by_marital_status = df.groupby('MaritalStatus')['Fitness'].mean()"
   ]
  },
  {
   "cell_type": "code",
   "execution_count": 16,
   "id": "f19f2b97",
   "metadata": {},
   "outputs": [
    {
     "name": "stdout",
     "output_type": "stream",
     "text": [
      "PRODUCT :['TM195' 'TM498' 'TM798'] \n",
      "MARITALSTATUS :['Single' 'Partnered'] \n",
      "USAGE :[3 2 4 5 6 7] \n",
      "FITNESS :[4 3 2 1 5] \n",
      "EDUCATION :[14 15 12 13 16 18 20 21] \n",
      "AGE :[18 19 20 21 22 23 24 25 26 27 28 29 30 31 32 33 34 35 36 37 38 39 40 41\n",
      " 43 44 46 47 50 45 48 42] \n"
     ]
    }
   ],
   "source": [
    "list_col=['Product','MaritalStatus','Usage','Fitness','Education','Age']\n",
    "for col in list_col:\n",
    "        print('{} :{} ' . format(col.upper(),df[col].unique()))\n"
   ]
  },
  {
   "cell_type": "code",
   "execution_count": 17,
   "id": "60287c3e",
   "metadata": {},
   "outputs": [
    {
     "name": "stdout",
     "output_type": "stream",
     "text": [
      "MaritalStatus\n",
      "Partnered    3.271028\n",
      "Single       3.369863\n",
      "Name: Fitness, dtype: float64\n"
     ]
    }
   ],
   "source": [
    "# Print the mean fitness score for each marital status\n",
    "print(mean_fitness_by_marital_status)"
   ]
  },
  {
   "cell_type": "code",
   "execution_count": 18,
   "id": "17566708",
   "metadata": {},
   "outputs": [],
   "source": [
    "# Filter the data for customers below the age of 40\n",
    "young_customers = df[df['Age'] < 40]"
   ]
  },
  {
   "cell_type": "code",
   "execution_count": 19,
   "id": "0c307ff8",
   "metadata": {},
   "outputs": [],
   "source": [
    "# Count the number of occurrences for each product\n",
    "product_counts = young_customers['Product'].value_counts()"
   ]
  },
  {
   "cell_type": "code",
   "execution_count": 20,
   "id": "b1a7b9d0",
   "metadata": {},
   "outputs": [
    {
     "name": "stdout",
     "output_type": "stream",
     "text": [
      "TM195    73\n",
      "TM498    55\n",
      "TM798    35\n",
      "Name: Product, dtype: int64\n"
     ]
    }
   ],
   "source": [
    "# Print the product counts\n",
    "print(product_counts)"
   ]
  },
  {
   "cell_type": "raw",
   "id": "71a5d813",
   "metadata": {},
   "source": [
    "Python Program to Make a Simple Calculator"
   ]
  },
  {
   "cell_type": "code",
   "execution_count": 21,
   "id": "f8e442b4",
   "metadata": {},
   "outputs": [
    {
     "name": "stdout",
     "output_type": "stream",
     "text": [
      "enter first number:7995\n",
      "enter second number:998\n",
      "enter operator (+,-,*,/,%): +\n",
      "8993\n"
     ]
    }
   ],
   "source": [
    "first = input(\"enter first number:\")\n",
    "second = input(\"enter second number:\")\n",
    "operator = input(\"enter operator (+,-,*,/,%): \")\n",
    "\n",
    "first = int(first)\n",
    "second = int(second)\n",
    "\n",
    "if operator == \"+\":\n",
    "    print(first + second)\n",
    "elif operator == \"-\":\n",
    "    print(first - second)\n",
    "elif operator == \"*\":\n",
    "    print(first * second)\n",
    "elif operator == \"/\":\n",
    "    print(first / second)\n",
    "elif operator == \"%\":\n",
    "    print(first % second)\n",
    "else:\n",
    "    print(\"Invalid Operation\")"
   ]
  },
  {
   "cell_type": "markdown",
   "id": "5f30da92",
   "metadata": {},
   "source": [
    ". Tests whether a data sample has a Gaussian distribution.\n",
    "⦁\tGenerate the data, form H0 and H1 and write python code to test the Normality        [10M]\n"
   ]
  },
  {
   "cell_type": "code",
   "execution_count": null,
   "id": "9141bd4a",
   "metadata": {},
   "outputs": [],
   "source": []
  },
  {
   "cell_type": "markdown",
   "id": "8725619b",
   "metadata": {},
   "source": [
    "  Create an application using python which can perform the operations mentioned in the below             image                   "
   ]
  },
  {
   "cell_type": "code",
   "execution_count": 24,
   "id": "f43b45a9",
   "metadata": {},
   "outputs": [
    {
     "name": "stdout",
     "output_type": "stream",
     "text": [
      "Welcome to State Bank of India\n",
      "Enter your 4-digit PIN number: 7995\n",
      "1. Withdraw\n",
      "2. Balance Enquiry\n",
      "3. Fast Cash\n",
      "Please choose a transaction: 1\n",
      "Enter withdraw amount: 5000\n",
      "Please take your amount: 5000\n"
     ]
    }
   ],
   "source": [
    "print(\"Welcome to State Bank of India\")\n",
    "pin = input(\"Enter your 4-digit PIN number: \")\n",
    "\n",
    "balance = 10000   # Assuming an initial balance of Rs. 10,000\n",
    "\n",
    "# If the user enters the correct PIN, allow them to access their account\n",
    "if pin == \"7995\":\n",
    "    print(\"1. Withdraw\")\n",
    "    print(\"2. Balance Enquiry\")\n",
    "    print(\"3. Fast Cash\")\n",
    "    option = int(input(\"Please choose a transaction: \"))\n",
    "\n",
    "    if option == 1:\n",
    "        withdraw_amount = int(input(\"Enter withdraw amount: \"))\n",
    "        if withdraw_amount > balance:\n",
    "            print(\"Insufficient balance\")\n",
    "        else:\n",
    "            balance -= withdraw_amount\n",
    "            print(\"Please take your amount:\", withdraw_amount)\n",
    "\n",
    "    elif option == 2:\n",
    "        print(\"Your current balance is:\", balance)\n",
    "\n",
    "    elif option == 3:\n",
    "        print(\"1. Rs. 500\")\n",
    "        print(\"2. Rs. 50000\")\n",
    "        print(\"3. Rs. 1000000\")\n",
    "        fast_cash_option = int(input(\"Please choose a fast cash option: \"))\n",
    "\n",
    "        if fast_cash_option == 1:\n",
    "            if balance >= 100:\n",
    "                balance -= 100\n",
    "                print(\"Please take your amount: 100\")\n",
    "            else:\n",
    "                print(\"Insufficient balance\")\n",
    "\n",
    "        elif fast_cash_option == 2:\n",
    "            if balance >= 500:\n",
    "                balance -= 500\n",
    "                print(\"Please take your amount: 500\")\n",
    "            else:\n",
    "                print(\"Insufficient balance\")\n",
    "\n",
    "        elif fast_cash_option == 3:\n",
    "            if balance >= 1000:\n",
    "                balance -= 1000\n",
    "                print(\"Please take your amount: 1000\")\n",
    "            else:\n",
    "                print(\"Insufficient balance\")\n",
    "\n",
    "        else:\n",
    "            print(\"Invalid option selected\")\n",
    "\n",
    "    else:\n",
    "        print(\"Invalid option selected\")\n",
    "\n",
    "else:\n",
    "    print(\"Incorrect PIN\")"
   ]
  },
  {
   "cell_type": "code",
   "execution_count": null,
   "id": "8c7da6c9",
   "metadata": {},
   "outputs": [],
   "source": []
  }
 ],
 "metadata": {
  "kernelspec": {
   "display_name": "Python 3 (ipykernel)",
   "language": "python",
   "name": "python3"
  },
  "language_info": {
   "codemirror_mode": {
    "name": "ipython",
    "version": 3
   },
   "file_extension": ".py",
   "mimetype": "text/x-python",
   "name": "python",
   "nbconvert_exporter": "python",
   "pygments_lexer": "ipython3",
   "version": "3.9.7"
  }
 },
 "nbformat": 4,
 "nbformat_minor": 5
}
